{
 "cells": [
  {
   "cell_type": "markdown",
   "metadata": {},
   "source": [
    "# KeepUp Inc. Take-Home Challenge"
   ]
  },
  {
   "cell_type": "markdown",
   "metadata": {},
   "source": [
    "KeepUp is an edTech startup based in San Francisco. Founded in 2012 by Rick Sindhwani, it curates educational resources to help companies rapidly train their employees and keep up with changing times and trends."
   ]
  },
  {
   "cell_type": "markdown",
   "metadata": {},
   "source": [
    "## A. (Suggested duration: 90 mins)"
   ]
  },
  {
   "cell_type": "markdown",
   "metadata": {},
   "source": [
    "With the given data for 548552 products, perform exploratory analysis and make suggestions for further analysis on the following aspects."
   ]
  },
  {
   "cell_type": "markdown",
   "metadata": {},
   "source": [
    "### 1. Trustworthiness of ratings"
   ]
  },
  {
   "cell_type": "markdown",
   "metadata": {},
   "source": [
    "Ratings are susceptible to manipulation, bias etc. What can you say (quantitatively speaking) about the ratings in this dataset?"
   ]
  },
  {
   "cell_type": "code",
   "execution_count": 1,
   "metadata": {
    "collapsed": true
   },
   "outputs": [],
   "source": [
    "import pandas as pd"
   ]
  },
  {
   "cell_type": "code",
   "execution_count": 2,
   "metadata": {
    "collapsed": true
   },
   "outputs": [],
   "source": [
    "with open('data/amazon-meta.txt') as f:\n",
    "    txt = f.read().splitlines()"
   ]
  },
  {
   "cell_type": "code",
   "execution_count": 3,
   "metadata": {},
   "outputs": [],
   "source": [
    "#create list of items\n",
    "data = []\n",
    "space = []\n",
    "\n",
    "for string in txt[3:]:\n",
    "    if string != '':\n",
    "        space.append(string)\n",
    "    else:\n",
    "        data.append(space)\n",
    "        space = []"
   ]
  },
  {
   "cell_type": "code",
   "execution_count": 4,
   "metadata": {},
   "outputs": [
    {
     "data": {
      "text/plain": [
       "548552"
      ]
     },
     "execution_count": 4,
     "metadata": {},
     "output_type": "execute_result"
    }
   ],
   "source": [
    "#check size of data\n",
    "len(data)"
   ]
  },
  {
   "cell_type": "code",
   "execution_count": 5,
   "metadata": {
    "scrolled": false
   },
   "outputs": [
    {
     "data": {
      "text/plain": [
       "[['Id:   2',\n",
       "  'ASIN: 0738700797',\n",
       "  '  title: Candlemas: Feast of Flames',\n",
       "  '  group: Book',\n",
       "  '  salesrank: 168596',\n",
       "  '  similar: 5  0738700827  1567184960  1567182836  0738700525  0738700940',\n",
       "  '  categories: 2',\n",
       "  '   |Books[283155]|Subjects[1000]|Religion & Spirituality[22]|Earth-Based Religions[12472]|Wicca[12484]',\n",
       "  '   |Books[283155]|Subjects[1000]|Religion & Spirituality[22]|Earth-Based Religions[12472]|Witchcraft[12486]',\n",
       "  '  reviews: total: 12  downloaded: 12  avg rating: 4.5',\n",
       "  '    2001-12-16  cutomer: A11NCO6YTE4BTJ  rating: 5  votes:   5  helpful:   4',\n",
       "  '    2002-1-7  cutomer:  A9CQ3PLRNIR83  rating: 4  votes:   5  helpful:   5',\n",
       "  '    2002-1-24  cutomer: A13SG9ACZ9O5IM  rating: 5  votes:   8  helpful:   8',\n",
       "  '    2002-1-28  cutomer: A1BDAI6VEYMAZA  rating: 5  votes:   4  helpful:   4',\n",
       "  '    2002-2-6  cutomer: A2P6KAWXJ16234  rating: 4  votes:  16  helpful:  16',\n",
       "  '    2002-2-14  cutomer:  AMACWC3M7PQFR  rating: 4  votes:   5  helpful:   5',\n",
       "  '    2002-3-23  cutomer: A3GO7UV9XX14D8  rating: 4  votes:   6  helpful:   6',\n",
       "  '    2002-5-23  cutomer: A1GIL64QK68WKL  rating: 5  votes:   8  helpful:   8',\n",
       "  '    2003-2-25  cutomer:  AEOBOF2ONQJWV  rating: 5  votes:   8  helpful:   5',\n",
       "  '    2003-11-25  cutomer: A3IGHTES8ME05L  rating: 5  votes:   5  helpful:   5',\n",
       "  '    2004-2-11  cutomer: A1CP26N8RHYVVO  rating: 1  votes:  13  helpful:   9',\n",
       "  '    2005-2-7  cutomer:  ANEIANH0WAT9D  rating: 5  votes:   1  helpful:   1']]"
      ]
     },
     "execution_count": 5,
     "metadata": {},
     "output_type": "execute_result"
    }
   ],
   "source": [
    "#sample data entry\n",
    "data[2:3]"
   ]
  },
  {
   "cell_type": "code",
   "execution_count": 6,
   "metadata": {},
   "outputs": [],
   "source": [
    "#extract ratings data into a dictionary \n",
    "rating = {}\n",
    "\n",
    "for d in data:\n",
    "    id_, total, downloaded, avg_rating = '', '', '', ''\n",
    "    for item in d:\n",
    "        if item.startswith('Id:'):\n",
    "            id_ = item.split()[-1]\n",
    "        elif item.startswith('  reviews:'):\n",
    "            total = item.split()[2]\n",
    "            downloaded = item.split()[4]\n",
    "            avg_rating = item.split()[7]\n",
    "        elif item.startswith('  discontinued product'):\n",
    "            skip = True\n",
    "    if skip == False:\n",
    "        rating[id_] = [total, downloaded, avg_rating]\n",
    "    else:\n",
    "        skip = False"
   ]
  },
  {
   "cell_type": "code",
   "execution_count": 7,
   "metadata": {},
   "outputs": [
    {
     "data": {
      "text/html": [
       "<div>\n",
       "<style>\n",
       "    .dataframe thead tr:only-child th {\n",
       "        text-align: right;\n",
       "    }\n",
       "\n",
       "    .dataframe thead th {\n",
       "        text-align: left;\n",
       "    }\n",
       "\n",
       "    .dataframe tbody tr th {\n",
       "        vertical-align: top;\n",
       "    }\n",
       "</style>\n",
       "<table border=\"1\" class=\"dataframe\">\n",
       "  <thead>\n",
       "    <tr style=\"text-align: right;\">\n",
       "      <th></th>\n",
       "      <th>id</th>\n",
       "      <th>total</th>\n",
       "      <th>downloaded</th>\n",
       "      <th>avg_rating</th>\n",
       "    </tr>\n",
       "  </thead>\n",
       "  <tbody>\n",
       "    <tr>\n",
       "      <th>0</th>\n",
       "      <td>1</td>\n",
       "      <td>2</td>\n",
       "      <td>2</td>\n",
       "      <td>5.0</td>\n",
       "    </tr>\n",
       "    <tr>\n",
       "      <th>109901</th>\n",
       "      <td>2</td>\n",
       "      <td>12</td>\n",
       "      <td>12</td>\n",
       "      <td>4.5</td>\n",
       "    </tr>\n",
       "    <tr>\n",
       "      <th>219673</th>\n",
       "      <td>3</td>\n",
       "      <td>1</td>\n",
       "      <td>1</td>\n",
       "      <td>5.0</td>\n",
       "    </tr>\n",
       "    <tr>\n",
       "      <th>329476</th>\n",
       "      <td>4</td>\n",
       "      <td>1</td>\n",
       "      <td>1</td>\n",
       "      <td>4.0</td>\n",
       "    </tr>\n",
       "    <tr>\n",
       "      <th>439370</th>\n",
       "      <td>5</td>\n",
       "      <td>0</td>\n",
       "      <td>0</td>\n",
       "      <td>0.0</td>\n",
       "    </tr>\n",
       "  </tbody>\n",
       "</table>\n",
       "</div>"
      ],
      "text/plain": [
       "        id  total  downloaded  avg_rating\n",
       "0        1      2           2         5.0\n",
       "109901   2     12          12         4.5\n",
       "219673   3      1           1         5.0\n",
       "329476   4      1           1         4.0\n",
       "439370   5      0           0         0.0"
      ]
     },
     "execution_count": 7,
     "metadata": {},
     "output_type": "execute_result"
    }
   ],
   "source": [
    "#create ratings dataframe\n",
    "ratings = pd.DataFrame.from_dict(rating)\n",
    "ratings = ratings.T.reset_index(drop=False)\n",
    "ratings.columns = ['id', 'total', 'downloaded', 'avg_rating']\n",
    "ratings['id']  = ratings['id'].astype(int)\n",
    "ratings['total']  = ratings['total'].astype(int)\n",
    "ratings['downloaded']  = ratings['downloaded'].astype(int)\n",
    "ratings['avg_rating']  = ratings['avg_rating'].astype(float)\n",
    "ratings = ratings.sort_values('id')\n",
    "ratings.head()"
   ]
  },
  {
   "cell_type": "code",
   "execution_count": 8,
   "metadata": {},
   "outputs": [
    {
     "data": {
      "text/plain": [
       "542684"
      ]
     },
     "execution_count": 8,
     "metadata": {},
     "output_type": "execute_result"
    }
   ],
   "source": [
    "#remaining products that are still available\n",
    "len(ratings)"
   ]
  },
  {
   "cell_type": "code",
   "execution_count": 9,
   "metadata": {},
   "outputs": [
    {
     "data": {
      "text/plain": [
       "(7781990, 7593244, 3.2095344620442097)"
      ]
     },
     "execution_count": 9,
     "metadata": {},
     "output_type": "execute_result"
    }
   ],
   "source": [
    "#sum of totals, download and mean of all ratings\n",
    "sum(ratings.total), sum(ratings.downloaded), ratings.avg_rating.mean()"
   ]
  },
  {
   "cell_type": "code",
   "execution_count": 10,
   "metadata": {},
   "outputs": [
    {
     "data": {
      "text/plain": [
       "1.0248570966506543"
      ]
     },
     "execution_count": 10,
     "metadata": {},
     "output_type": "execute_result"
    }
   ],
   "source": [
    "#total reviews compared to total downloads\n",
    "sum(ratings.total)/float(sum(ratings.downloaded))"
   ]
  },
  {
   "cell_type": "markdown",
   "metadata": {},
   "source": [
    "Assuming that all reviews are done by individuals that downloaded a product, there seems to be some problem with the ratings already. There are more total reviews than actual downloads. This needs to be investigated further."
   ]
  },
  {
   "cell_type": "code",
   "execution_count": 11,
   "metadata": {},
   "outputs": [
    {
     "data": {
      "text/html": [
       "<div>\n",
       "<style>\n",
       "    .dataframe thead tr:only-child th {\n",
       "        text-align: right;\n",
       "    }\n",
       "\n",
       "    .dataframe thead th {\n",
       "        text-align: left;\n",
       "    }\n",
       "\n",
       "    .dataframe tbody tr th {\n",
       "        vertical-align: top;\n",
       "    }\n",
       "</style>\n",
       "<table border=\"1\" class=\"dataframe\">\n",
       "  <thead>\n",
       "    <tr style=\"text-align: right;\">\n",
       "      <th></th>\n",
       "      <th>id</th>\n",
       "      <th>total</th>\n",
       "      <th>downloaded</th>\n",
       "      <th>avg_rating</th>\n",
       "    </tr>\n",
       "  </thead>\n",
       "  <tbody>\n",
       "    <tr>\n",
       "      <th>102214</th>\n",
       "      <td>193</td>\n",
       "      <td>261</td>\n",
       "      <td>260</td>\n",
       "      <td>3.0</td>\n",
       "    </tr>\n",
       "    <tr>\n",
       "      <th>292160</th>\n",
       "      <td>366</td>\n",
       "      <td>10</td>\n",
       "      <td>5</td>\n",
       "      <td>4.5</td>\n",
       "    </tr>\n",
       "    <tr>\n",
       "      <th>295450</th>\n",
       "      <td>369</td>\n",
       "      <td>416</td>\n",
       "      <td>5</td>\n",
       "      <td>5.0</td>\n",
       "    </tr>\n",
       "    <tr>\n",
       "      <th>297636</th>\n",
       "      <td>371</td>\n",
       "      <td>416</td>\n",
       "      <td>415</td>\n",
       "      <td>5.0</td>\n",
       "    </tr>\n",
       "    <tr>\n",
       "      <th>300933</th>\n",
       "      <td>374</td>\n",
       "      <td>7</td>\n",
       "      <td>5</td>\n",
       "      <td>3.5</td>\n",
       "    </tr>\n",
       "  </tbody>\n",
       "</table>\n",
       "</div>"
      ],
      "text/plain": [
       "         id  total  downloaded  avg_rating\n",
       "102214  193    261         260         3.0\n",
       "292160  366     10           5         4.5\n",
       "295450  369    416           5         5.0\n",
       "297636  371    416         415         5.0\n",
       "300933  374      7           5         3.5"
      ]
     },
     "execution_count": 11,
     "metadata": {},
     "output_type": "execute_result"
    }
   ],
   "source": [
    "#are there products that have more reviews than downloads?\n",
    "r = ratings[ratings['total'] > ratings['downloaded']]\n",
    "r.head()"
   ]
  },
  {
   "cell_type": "code",
   "execution_count": 12,
   "metadata": {},
   "outputs": [
    {
     "data": {
      "text/plain": [
       "8615"
      ]
     },
     "execution_count": 12,
     "metadata": {},
     "output_type": "execute_result"
    }
   ],
   "source": [
    "#how many had more reviews than downloads?\n",
    "len(r)"
   ]
  },
  {
   "cell_type": "markdown",
   "metadata": {},
   "source": [
    "There seems to be some products that has a huge difference when it comes to total reviews and downloads as can be seen on item id: 369."
   ]
  },
  {
   "cell_type": "code",
   "execution_count": 13,
   "metadata": {},
   "outputs": [
    {
     "data": {
      "text/html": [
       "<div>\n",
       "<style>\n",
       "    .dataframe thead tr:only-child th {\n",
       "        text-align: right;\n",
       "    }\n",
       "\n",
       "    .dataframe thead th {\n",
       "        text-align: left;\n",
       "    }\n",
       "\n",
       "    .dataframe tbody tr th {\n",
       "        vertical-align: top;\n",
       "    }\n",
       "</style>\n",
       "<table border=\"1\" class=\"dataframe\">\n",
       "  <thead>\n",
       "    <tr style=\"text-align: right;\">\n",
       "      <th></th>\n",
       "      <th>id</th>\n",
       "      <th>total</th>\n",
       "      <th>downloaded</th>\n",
       "      <th>avg_rating</th>\n",
       "      <th>difference</th>\n",
       "    </tr>\n",
       "  </thead>\n",
       "  <tbody>\n",
       "    <tr>\n",
       "      <th>52947</th>\n",
       "      <td>148185</td>\n",
       "      <td>5034</td>\n",
       "      <td>5</td>\n",
       "      <td>5.0</td>\n",
       "      <td>5029</td>\n",
       "    </tr>\n",
       "    <tr>\n",
       "      <th>542124</th>\n",
       "      <td>99487</td>\n",
       "      <td>5033</td>\n",
       "      <td>5</td>\n",
       "      <td>5.0</td>\n",
       "      <td>5028</td>\n",
       "    </tr>\n",
       "    <tr>\n",
       "      <th>31509</th>\n",
       "      <td>128673</td>\n",
       "      <td>4922</td>\n",
       "      <td>5</td>\n",
       "      <td>5.0</td>\n",
       "      <td>4917</td>\n",
       "    </tr>\n",
       "    <tr>\n",
       "      <th>307143</th>\n",
       "      <td>379661</td>\n",
       "      <td>2925</td>\n",
       "      <td>5</td>\n",
       "      <td>4.5</td>\n",
       "      <td>2920</td>\n",
       "    </tr>\n",
       "    <tr>\n",
       "      <th>166425</th>\n",
       "      <td>251503</td>\n",
       "      <td>2925</td>\n",
       "      <td>5</td>\n",
       "      <td>4.5</td>\n",
       "      <td>2920</td>\n",
       "    </tr>\n",
       "  </tbody>\n",
       "</table>\n",
       "</div>"
      ],
      "text/plain": [
       "            id  total  downloaded  avg_rating  difference\n",
       "52947   148185   5034           5         5.0        5029\n",
       "542124   99487   5033           5         5.0        5028\n",
       "31509   128673   4922           5         5.0        4917\n",
       "307143  379661   2925           5         4.5        2920\n",
       "166425  251503   2925           5         4.5        2920"
      ]
     },
     "execution_count": 13,
     "metadata": {},
     "output_type": "execute_result"
    }
   ],
   "source": [
    "#create a column to show the difference and sort\n",
    "ratings['difference'] = ratings['total'] - ratings['downloaded']\n",
    "ratings = ratings.sort_values('difference', ascending=False)\n",
    "ratings.head()"
   ]
  },
  {
   "cell_type": "markdown",
   "metadata": {},
   "source": [
    "The biggest difference only had a a total of 5 downloads. There seems to be a problem with this. There are a lot of reviews that have been done on the data despite not availing the actual product thus putting the review system's credibility in question."
   ]
  },
  {
   "cell_type": "code",
   "execution_count": 14,
   "metadata": {},
   "outputs": [
    {
     "data": {
      "text/plain": [
       "['Id:   148185',\n",
       " 'ASIN: 059035342X',\n",
       " \"  title: Harry Potter and the Sorcerer's Stone (Book 1)\",\n",
       " '  group: Book',\n",
       " '  salesrank: 746',\n",
       " '  similar: 5  0439064864  0439136350  0439139600  043935806X  B00005JMAH',\n",
       " '  categories: 7',\n",
       " \"   |Books[283155]|Subjects[1000]|Children's Books[4]|Literature[2966]|Humorous[3003]\",\n",
       " \"   |Books[283155]|Subjects[1000]|Children's Books[4]|Literature[2966]|Science Fiction, Fantasy, Mystery & Horror[3013]|Science Fiction, Fantasy, & Magic[3017]\",\n",
       " \"   |Books[283155]|Subjects[1000]|Children's Books[4]|Ages 9-12[2786]|General[170063]\",\n",
       " \"   |Books[283155]|Subjects[1000]|Children's Books[4]|Authors & Illustrators, A-Z[170540]|( R )[170558]|Rowling, J.K.[285272]|General[285273]\",\n",
       " \"   |Books[283155]|Subjects[1000]|Children's Books[4]|Series[3302]|Fantasy & Adventure[3328]|Harry Potter Books[281785]|General[285696]\",\n",
       " \"   |Books[283155]|Subjects[1000]|Children's Books[4]|Authors & Illustrators, A-Z[170540]|( R )[170558]|Rowling, J.K.[285272]|Paperback[286477]\",\n",
       " \"   |Books[283155]|Subjects[1000]|Children's Books[4]|Series[3302]|Fantasy & Adventure[3328]|Harry Potter Books[281785]|Paperback[287461]\",\n",
       " '  reviews: total: 5034  downloaded: 5  avg rating: 5',\n",
       " '    2005-6-20  cutomer: A2056YOS40BS3X  rating: 5  votes:   3  helpful:   1',\n",
       " '    2005-6-21  cutomer: A3JBCV205FWG6O  rating: 5  votes:   3  helpful:   1',\n",
       " '    2005-6-21  cutomer:  ABK9L0CDZ14BN  rating: 5  votes:   1  helpful:   1',\n",
       " '    2005-6-25  cutomer: A2RNFAQ1RZ920I  rating: 5  votes:   1  helpful:   1',\n",
       " '    2005-6-25  cutomer: A3UN6WX5RRO2AG  rating: 1  votes:   1  helpful:   0']"
      ]
     },
     "execution_count": 14,
     "metadata": {},
     "output_type": "execute_result"
    }
   ],
   "source": [
    "#lets get an example\n",
    "data[148185]"
   ]
  },
  {
   "cell_type": "markdown",
   "metadata": {},
   "source": [
    "This particular id had the biggest difference in reviews and downloads. While it is no doubt a best seller, and people that have been reviewing the product may have bought elsewhere, it is possible that some reviews were done by people or bots that haven't read the book yet."
   ]
  },
  {
   "cell_type": "code",
   "execution_count": 15,
   "metadata": {
    "scrolled": true
   },
   "outputs": [
    {
     "data": {
      "text/plain": [
       "['Id:   81',\n",
       " 'ASIN: 6304286961',\n",
       " '  title: The Doors',\n",
       " '  group: Video',\n",
       " '  salesrank: 10217',\n",
       " '  similar: 5  0783233485  0679726225  6305603847  1592400647  0679734627',\n",
       " '  categories: 20',\n",
       " '   |[139452]|VHS[404272]|Actors & Actresses[140]|( B )[140748]|Burkley, Dennis[142653]',\n",
       " '   |[139452]|VHS[404272]|Actors & Actresses[140]|( D )[144551]|Dillon, Kevin[145163]',\n",
       " '   |[139452]|VHS[404272]|Actors & Actresses[140]|( I )[149429]|Idol, Billy[149446]',\n",
       " '   |[139452]|VHS[404272]|Actors & Actresses[140]|( K )[150127]|Kilmer, Val[150602]',\n",
       " '   |[139452]|VHS[404272]|Actors & Actresses[140]|( M )[152234]|Maberly to Mazzello[769018]|Maclachlan, Kyle[152313]',\n",
       " '   |[139452]|VHS[404272]|Actors & Actresses[140]|( M )[152234]|Maberly to Mazzello[769018]|Madsen, Michael[152359]',\n",
       " '   |[139452]|VHS[404272]|Actors & Actresses[140]|( Q )[156257]|Quinlan, Kathleen[156298]',\n",
       " '   |[139452]|VHS[404272]|Actors & Actresses[140]|( R )[156323]|Ryan, Meg[157461]',\n",
       " '   |[139452]|VHS[404272]|Actors & Actresses[140]|( S )[157485]|Studi, Wes[159315]',\n",
       " '   |[139452]|VHS[404272]|Actors & Actresses[140]|( W )[160685]|Westerman, Floyd Red Crow[161217]',\n",
       " '   |[139452]|VHS[404272]|Actors & Actresses[140]|( W )[160685]|Whaley, Frank[161234]',\n",
       " '   |[139452]|VHS[404272]|Actors & Actresses[140]|( W )[160685]|Wincott, Michael[161589]',\n",
       " '   |[139452]|VHS[404272]|Directors[139]|( S )[167337]|Stone, Oliver[167801]',\n",
       " '   |[139452]|VHS[404272]|Genres[404274]|Drama[129]|By Theme[168482]|Biography[168508]',\n",
       " '   |[139452]|VHS[404272]|Genres[404274]|Drama[129]|General[168754]',\n",
       " \"   |[139452]|VHS[404272]|Special Features[498864]|Today's Deals in Video[292355]|Drama[531318]\",\n",
       " '   |[139452]|VHS[404272]|Genres[404274]|Musicals & Performing Arts[508526]|Musicals[169351]|Drama[577350]',\n",
       " '   |[265523]|Amazon.com Stores[285080]|Amazon.com Outlet[517808]|Categories[526028]|Video Outlet[735448]|Drama[735460]',\n",
       " '   |[139452]|VHS[404272]|Genres[404274]|Drama[129]|By Theme[168482]|Addiction & Alcoholism[740020]',\n",
       " '   |[139452]|VHS[404272]|Genres[404274]|Drama[129]|By Theme[168482]|Artists & Writers[740030]',\n",
       " '  reviews: total: 167  downloaded: 167  avg rating: 4',\n",
       " '    1995-11-10  cutomer:  AUT0MDXDIOX17  rating: 5  votes:   1  helpful:   1',\n",
       " '    1998-10-5  cutomer: A1RNDOQS14QZQB  rating: 2  votes:   2  helpful:   0',\n",
       " '    1998-10-31  cutomer:  ATVPDKIKX0DER  rating: 4  votes:   3  helpful:   1',\n",
       " '    1998-11-25  cutomer:  ATVPDKIKX0DER  rating: 5  votes:   0  helpful:   0',\n",
       " '    1998-12-13  cutomer: A10BCEZ9NP21PP  rating: 4  votes:   0  helpful:   0',\n",
       " '    1999-1-4  cutomer: A1X00Z12CW7DJ0  rating: 5  votes:   5  helpful:   2',\n",
       " '    1999-1-4  cutomer:  ATVPDKIKX0DER  rating: 1  votes:   2  helpful:   1',\n",
       " '    1999-1-8  cutomer:  ATVPDKIKX0DER  rating: 5  votes:   0  helpful:   0',\n",
       " '    1999-1-14  cutomer: A2LN99GI4OBDEP  rating: 5  votes:   0  helpful:   0',\n",
       " '    1999-1-16  cutomer: A20WKGBDKUIZOZ  rating: 2  votes:   1  helpful:   1',\n",
       " '    1999-1-20  cutomer: A32ON6UV0D4R94  rating: 5  votes:   0  helpful:   0',\n",
       " '    1999-1-23  cutomer:  ATVPDKIKX0DER  rating: 5  votes:   0  helpful:   0',\n",
       " '    1999-1-24  cutomer: A2736CHF0SS3L8  rating: 2  votes:   0  helpful:   0',\n",
       " '    1999-1-28  cutomer: A1O40PJC4U0J4Q  rating: 2  votes:   2  helpful:   0',\n",
       " '    1999-1-31  cutomer:  ATVPDKIKX0DER  rating: 5  votes:   0  helpful:   0',\n",
       " '    1999-2-4  cutomer:  ATVPDKIKX0DER  rating: 3  votes:   0  helpful:   0',\n",
       " '    1999-2-8  cutomer:  ATVPDKIKX0DER  rating: 4  votes:   0  helpful:   0',\n",
       " '    1999-2-9  cutomer: A1XFCNX4GD4XK0  rating: 4  votes:   0  helpful:   0',\n",
       " '    1999-2-12  cutomer: A2YQVUW2P71FT4  rating: 1  votes:   1  helpful:   0',\n",
       " '    1999-2-17  cutomer: A2ICK1MF71Q8A9  rating: 2  votes:   7  helpful:   2',\n",
       " '    1999-2-18  cutomer:  ATVPDKIKX0DER  rating: 5  votes:   0  helpful:   0',\n",
       " '    1999-2-20  cutomer:  ATVPDKIKX0DER  rating: 5  votes:   0  helpful:   0',\n",
       " '    1999-2-26  cutomer:  ATVPDKIKX0DER  rating: 3  votes:   1  helpful:   1',\n",
       " '    1999-3-3  cutomer: A1YTPPKN4ZXI6M  rating: 5  votes:   0  helpful:   0',\n",
       " '    1999-3-7  cutomer: A2RXAYXF97S4IR  rating: 4  votes:   0  helpful:   0',\n",
       " '    1999-3-15  cutomer:  ATVPDKIKX0DER  rating: 4  votes:   0  helpful:   0',\n",
       " '    1999-3-15  cutomer:  ATVPDKIKX0DER  rating: 4  votes:   0  helpful:   0',\n",
       " '    1999-3-19  cutomer: A3HACSQO6Y6YOX  rating: 5  votes:   0  helpful:   0',\n",
       " '    1999-3-27  cutomer: A11G8H5ONWAOUK  rating: 4  votes:   0  helpful:   0',\n",
       " '    1999-4-9  cutomer:  ATVPDKIKX0DER  rating: 5  votes:   2  helpful:   2',\n",
       " '    1999-4-12  cutomer:  ATVPDKIKX0DER  rating: 1  votes:   2  helpful:   1',\n",
       " '    1999-4-12  cutomer:  ATVPDKIKX0DER  rating: 4  votes:   0  helpful:   0',\n",
       " '    1999-4-18  cutomer: A2VKGFPYI51G1I  rating: 5  votes:   2  helpful:   2',\n",
       " '    1999-4-20  cutomer:  ATVPDKIKX0DER  rating: 3  votes:   0  helpful:   0',\n",
       " '    1999-4-29  cutomer: A1K1XWZP9YYIIJ  rating: 1  votes:   7  helpful:   3',\n",
       " '    1999-5-2  cutomer:  ATVPDKIKX0DER  rating: 1  votes:   7  helpful:   2',\n",
       " '    1999-5-22  cutomer:  ATVPDKIKX0DER  rating: 4  votes:   0  helpful:   0',\n",
       " '    1999-6-13  cutomer: A2RZUNUEJ9BGMP  rating: 5  votes:   0  helpful:   0',\n",
       " '    1999-6-22  cutomer:  ATVPDKIKX0DER  rating: 3  votes:   1  helpful:   0',\n",
       " '    1999-6-29  cutomer:  ATVPDKIKX0DER  rating: 4  votes:   0  helpful:   0',\n",
       " '    1999-6-30  cutomer:  ATVPDKIKX0DER  rating: 2  votes:   2  helpful:   2',\n",
       " '    1999-7-30  cutomer:  ATVPDKIKX0DER  rating: 5  votes:   2  helpful:   2',\n",
       " '    1999-8-31  cutomer: A2XXE9S4XPPDE1  rating: 5  votes:   2  helpful:   1',\n",
       " '    1999-9-20  cutomer: A3N3SN2DDD4HCJ  rating: 4  votes:   3  helpful:   3',\n",
       " '    1999-10-19  cutomer:  AV7ATN4TN8AQT  rating: 3  votes:   2  helpful:   1',\n",
       " '    1999-10-21  cutomer: A34KBX6VF28QYN  rating: 3  votes:   8  helpful:   5',\n",
       " '    1999-11-16  cutomer:  ATVPDKIKX0DER  rating: 5  votes:   0  helpful:   0',\n",
       " '    1999-11-24  cutomer:  AOUMU4SENVAFA  rating: 5  votes:   4  helpful:   0',\n",
       " '    1999-12-18  cutomer:  AG65V3LSYO191  rating: 5  votes:   5  helpful:   5',\n",
       " '    2000-1-5  cutomer: A349UESOY8XSUQ  rating: 3  votes:   8  helpful:   4',\n",
       " '    2000-2-1  cutomer: A3VOVOJ78T1FYY  rating: 5  votes:   4  helpful:   1',\n",
       " '    2000-2-9  cutomer: A1Y37HNNB6XMN8  rating: 5  votes:   4  helpful:   1',\n",
       " '    2000-3-16  cutomer:  ATRYT5ZKNLN9C  rating: 5  votes:   4  helpful:   3',\n",
       " '    2000-3-21  cutomer: A11NH0A73VNNA6  rating: 5  votes:   1  helpful:   0',\n",
       " '    2000-3-22  cutomer: A3VLMUKRW1BBUR  rating: 2  votes:   1  helpful:   1',\n",
       " '    2000-4-6  cutomer: A36WKP9YQXFZNX  rating: 5  votes:   5  helpful:   0',\n",
       " '    2000-4-8  cutomer: A1ANMG6YDF9RU1  rating: 5  votes:   2  helpful:   1',\n",
       " '    2000-4-11  cutomer: A1TBZHX23BNA5B  rating: 1  votes:   9  helpful:   5',\n",
       " '    2000-4-23  cutomer: A3R2YB0WTTB0IJ  rating: 5  votes:   4  helpful:   1',\n",
       " '    2000-6-4  cutomer: A17A2F7CPIJBLI  rating: 5  votes:  17  helpful:  14',\n",
       " '    2000-7-19  cutomer: A1L1TJEW0W60E0  rating: 3  votes:   0  helpful:   0',\n",
       " '    2000-8-14  cutomer: A2R4L2XSML6GPQ  rating: 5  votes:   2  helpful:   2',\n",
       " '    2000-8-30  cutomer: A32C29HM5ADRT9  rating: 5  votes:   0  helpful:   0',\n",
       " '    2000-9-24  cutomer: A1HPB3F2IJF6B0  rating: 4  votes:   1  helpful:   0',\n",
       " '    2000-10-12  cutomer: A1KBI9O68N00IA  rating: 5  votes:   0  helpful:   0',\n",
       " '    2000-10-19  cutomer:  ASSAVTFQJZCME  rating: 5  votes:   2  helpful:   2',\n",
       " '    2000-10-26  cutomer:  AHYPS5FZPVSEW  rating: 1  votes:  15  helpful:   6',\n",
       " '    2001-1-7  cutomer: A2XFWLFC8TAB46  rating: 5  votes:   0  helpful:   0',\n",
       " '    2001-1-14  cutomer: A20VFCXL6VGKNN  rating: 4  votes:   1  helpful:   1',\n",
       " '    2001-1-28  cutomer: A2K5CEWR1KRWEL  rating: 5  votes:   2  helpful:   0',\n",
       " '    2001-1-29  cutomer: A18BV4O63DOWNH  rating: 1  votes:  19  helpful:   5',\n",
       " '    2001-1-30  cutomer: A3QDO6WALAN789  rating: 5  votes:   2  helpful:   0',\n",
       " '    2001-2-7  cutomer: A14OC67MXL92FA  rating: 3  votes:   5  helpful:   4',\n",
       " '    2001-2-10  cutomer:  A84UFSF2SZS2W  rating: 2  votes:   5  helpful:   0',\n",
       " '    2001-2-11  cutomer:  AZ7Z086INX7DQ  rating: 1  votes:   7  helpful:   2',\n",
       " '    2001-2-13  cutomer: A35LNYJ3TLS487  rating: 5  votes:   3  helpful:   1',\n",
       " '    2001-2-13  cutomer:  AI3PFAMR6RCL8  rating: 2  votes:  20  helpful:   1',\n",
       " '    2001-2-23  cutomer: A3N3SN2DDD4HCJ  rating: 5  votes:  11  helpful:   9',\n",
       " '    2001-3-6  cutomer:  AP286ZV19SLC6  rating: 5  votes:  11  helpful:  11',\n",
       " '    2001-3-14  cutomer: A3HACSQO6Y6YOX  rating: 5  votes:   3  helpful:   3',\n",
       " '    2001-4-13  cutomer: A1KY8HE1WK0SJB  rating: 5  votes:   7  helpful:   0',\n",
       " '    2001-4-27  cutomer: A2TSX4GQ0VD2BF  rating: 3  votes:   1  helpful:   1',\n",
       " '    2001-4-29  cutomer:  AW04WZ0PGDZX1  rating: 5  votes:   3  helpful:   1',\n",
       " '    2001-5-7  cutomer:  AHIQNPZUXCAFF  rating: 3  votes:   0  helpful:   0',\n",
       " '    2001-5-7  cutomer:  AHIQNPZUXCAFF  rating: 3  votes:   2  helpful:   1',\n",
       " '    2001-5-14  cutomer: A26H85UF6GX04C  rating: 4  votes:   4  helpful:   4',\n",
       " '    2001-5-17  cutomer:  AG8H7GTT1FVIQ  rating: 1  votes:   8  helpful:   2',\n",
       " '    2001-6-7  cutomer:  ARS5RAHQ3YPO3  rating: 4  votes:   1  helpful:   0',\n",
       " '    2001-6-8  cutomer:  A9LJRWNQTUOR1  rating: 4  votes:   0  helpful:   0',\n",
       " '    2001-6-18  cutomer: A2O0DY0US172SL  rating: 4  votes:   3  helpful:   1',\n",
       " '    2001-6-18  cutomer:   AYVFNOQHY8P3  rating: 4  votes:   0  helpful:   0',\n",
       " '    2001-6-26  cutomer: A2TBECX3H8KECK  rating: 4  votes:   4  helpful:   3',\n",
       " '    2001-6-27  cutomer: A1VJZGMKK1GEFP  rating: 5  votes:   2  helpful:   0',\n",
       " '    2001-7-2  cutomer: A21DZUYTN019N3  rating: 4  votes:   3  helpful:   1',\n",
       " '    2001-8-1  cutomer: A1MYCAU03U8J38  rating: 5  votes:   3  helpful:   2',\n",
       " '    2001-8-2  cutomer: A2FBJK2NDAD5M0  rating: 4  votes:   1  helpful:   0',\n",
       " '    2001-8-3  cutomer: A1NAGYEOC6ZEHW  rating: 5  votes:   2  helpful:   1',\n",
       " '    2001-8-15  cutomer: A1NBPUOE3AVMGQ  rating: 5  votes:   1  helpful:   0',\n",
       " '    2001-10-1  cutomer: A2HWD9PTM7RBXN  rating: 3  votes:  14  helpful:   7',\n",
       " '    2001-12-9  cutomer: A3P8B155SHRU8I  rating: 4  votes:  14  helpful:   9',\n",
       " '    2001-12-19  cutomer:  AYKELBZM1SH87  rating: 3  votes:  11  helpful:   7',\n",
       " '    2001-12-22  cutomer: A2NPQZSNUWQIQU  rating: 5  votes:   0  helpful:   0',\n",
       " '    2002-1-16  cutomer: A1XQCV5734A94Z  rating: 5  votes:   0  helpful:   0',\n",
       " '    2002-1-28  cutomer: A34DPXEGCFNZF4  rating: 5  votes:   3  helpful:   3',\n",
       " '    2002-2-8  cutomer: A324EF81MG2C5K  rating: 4  votes:   2  helpful:   1',\n",
       " '    2002-5-25  cutomer: A3H7HJ8O42U70Z  rating: 4  votes:   0  helpful:   0',\n",
       " '    2002-7-7  cutomer:  AF8C86SGYLH81  rating: 5  votes:   7  helpful:   3',\n",
       " '    2002-8-11  cutomer: A3FVFJ8D95E9KY  rating: 4  votes:   0  helpful:   0',\n",
       " '    2002-8-15  cutomer: A1FHTLL52XFC4T  rating: 4  votes:   0  helpful:   0',\n",
       " '    2002-8-25  cutomer: A15BPLFHIC8Q2B  rating: 3  votes:   2  helpful:   1',\n",
       " '    2002-11-1  cutomer: A3P1A63Q8L32C5  rating: 4  votes:   1  helpful:   1',\n",
       " '    2002-11-7  cutomer: A3N3SN2DDD4HCJ  rating: 5  votes:   3  helpful:   3',\n",
       " '    2002-12-8  cutomer:  A3UDHLRG0W516  rating: 5  votes:   0  helpful:   0',\n",
       " '    2003-1-9  cutomer: A2ZSC81MXLBELX  rating: 5  votes:  17  helpful:  12',\n",
       " '    2003-3-17  cutomer:  AJKWF4W7QD4NS  rating: 5  votes:   0  helpful:   0',\n",
       " '    2003-3-28  cutomer: A1BMQA5PIZKU1P  rating: 3  votes:   3  helpful:   1',\n",
       " '    2003-3-29  cutomer: A2D6IGKSOBQ3K9  rating: 5  votes:   3  helpful:   3',\n",
       " '    2003-4-6  cutomer: A2KCY2HYH0Z59E  rating: 4  votes:  12  helpful:   8',\n",
       " '    2003-5-19  cutomer: A2NWDY0QMLVQ91  rating: 5  votes:   0  helpful:   0',\n",
       " '    2003-5-29  cutomer: A3GTZW08HC6UV5  rating: 5  votes:   1  helpful:   0',\n",
       " '    2003-5-30  cutomer:  AP6YKEV6OMYT4  rating: 4  votes:   0  helpful:   0',\n",
       " '    2003-6-14  cutomer: A23IOPI0D1OG7V  rating: 4  votes:   1  helpful:   1',\n",
       " '    2003-7-4  cutomer: A3MCC5MAJYJYMD  rating: 1  votes:   6  helpful:   2',\n",
       " '    2003-7-6  cutomer:  ANK68QCUYUVVX  rating: 1  votes:   8  helpful:   5',\n",
       " '    2003-7-8  cutomer:  ABU7I2Z9M0Q5I  rating: 3  votes:   2  helpful:   1',\n",
       " '    2003-8-22  cutomer:  AHAXSPMYZOOE1  rating: 4  votes:   0  helpful:   0',\n",
       " '    2003-8-25  cutomer: A1TWBU1CK70ZZJ  rating: 4  votes:   1  helpful:   1',\n",
       " '    2003-9-15  cutomer:  A8WP81AJYXZE6  rating: 5  votes:   0  helpful:   0',\n",
       " '    2003-9-21  cutomer:  A82LIVYSX6WZ9  rating: 4  votes:   0  helpful:   0',\n",
       " '    2003-10-13  cutomer:  AD0J5KK4WQXNS  rating: 3  votes:   5  helpful:   1',\n",
       " '    2003-10-21  cutomer: A3AQMGZ1ILSUIN  rating: 5  votes:   1  helpful:   0',\n",
       " '    2003-11-8  cutomer: A3027EV9F5IOYD  rating: 4  votes:   1  helpful:   1',\n",
       " '    2003-11-17  cutomer:  AHZSEBTU0H63N  rating: 5  votes:   0  helpful:   0',\n",
       " '    2003-11-17  cutomer:  AHZSEBTU0H63N  rating: 5  votes:   1  helpful:   1',\n",
       " '    2003-12-20  cutomer: A1H0F2VTGF413S  rating: 1  votes:   7  helpful:   4',\n",
       " '    2003-12-28  cutomer: A34Y1FT0MTD7C9  rating: 5  votes:   1  helpful:   1',\n",
       " '    2004-1-1  cutomer: A2E2R8N7UMTLJF  rating: 4  votes:   1  helpful:   1',\n",
       " '    2004-3-12  cutomer: A3L49ID7CT6JB3  rating: 4  votes:   0  helpful:   0',\n",
       " '    2004-3-13  cutomer:  AUKEWXOCB3OJG  rating: 2  votes:   3  helpful:   1',\n",
       " '    2004-3-19  cutomer: A1S0B6U13Y0F6N  rating: 4  votes:   0  helpful:   0',\n",
       " '    2004-4-3  cutomer: A2OTU108PGMULC  rating: 3  votes:   2  helpful:   1',\n",
       " '    2004-4-3  cutomer: A3R066AGH8FZH7  rating: 5  votes:   1  helpful:   0',\n",
       " '    2004-4-5  cutomer: A18ICIVGP5AHDP  rating: 5  votes:   2  helpful:   0',\n",
       " '    2004-4-8  cutomer: A2MVCZUOWQM68I  rating: 4  votes:   2  helpful:   1',\n",
       " '    2004-4-16  cutomer:  A4KZTH3GSO0KX  rating: 3  votes:   1  helpful:   1',\n",
       " '    2004-4-23  cutomer: A38837VBBOI1OK  rating: 2  votes:   8  helpful:   4',\n",
       " '    2004-5-8  cutomer:  A7U67Y0I0YP5W  rating: 3  votes:   2  helpful:   1',\n",
       " '    2004-6-1  cutomer: A2Y0KN0D7DJ6WG  rating: 3  votes:   3  helpful:   1',\n",
       " '    2004-6-21  cutomer:  ACFUZ2RPO98RR  rating: 5  votes:   1  helpful:   1',\n",
       " '    2004-6-24  cutomer: A1IR1HS8EZN0Y0  rating: 5  votes:   5  helpful:   3',\n",
       " '    2004-7-3  cutomer: A1CZICCYP2M5PX  rating: 4  votes:   0  helpful:   0',\n",
       " '    2004-8-14  cutomer:  AGPXQKTE1TMAT  rating: 4  votes:   1  helpful:   1',\n",
       " '    2004-8-19  cutomer: A2QH5NMHW1KTJ1  rating: 5  votes:   2  helpful:   1',\n",
       " '    2004-8-28  cutomer: A289OIN6H65YU0  rating: 4  votes:   3  helpful:   2',\n",
       " '    2004-9-6  cutomer: A1C5HX8VFTOHDB  rating: 3  votes:   4  helpful:   0',\n",
       " '    2004-10-5  cutomer: A1ZXYN4QE5JC6T  rating: 5  votes:   3  helpful:   1',\n",
       " '    2004-10-25  cutomer: A1DU58OZJNPUHV  rating: 2  votes:   8  helpful:   4',\n",
       " '    2004-11-5  cutomer: A2B73CL3QSYWLB  rating: 4  votes:   2  helpful:   1',\n",
       " '    2004-11-15  cutomer: A21FQDQINC0TPO  rating: 5  votes:   4  helpful:   2',\n",
       " '    2004-11-21  cutomer: A1W9F3Z7LZQRVS  rating: 5  votes:   2  helpful:   0',\n",
       " '    2004-11-27  cutomer: A2GCDZ4TVYF26V  rating: 5  votes:   9  helpful:   8',\n",
       " '    2005-1-9  cutomer: A1QG4TLIYZRL7L  rating: 4  votes:   4  helpful:   1',\n",
       " '    2005-1-29  cutomer:  ATHR27AE3A2QW  rating: 5  votes:   2  helpful:   1',\n",
       " '    2005-2-11  cutomer: A2WI7T7MC6VO5Y  rating: 5  votes:   8  helpful:   3',\n",
       " '    2005-4-1  cutomer: A31KXTOQNTWUVM  rating: 1  votes:  16  helpful:   3',\n",
       " '    2005-4-15  cutomer: A3ERCYTP5QGGM2  rating: 2  votes:   7  helpful:   0',\n",
       " '    2005-5-6  cutomer: A1ZKPET0VDG25V  rating: 2  votes:   7  helpful:   3']"
      ]
     },
     "execution_count": 15,
     "metadata": {},
     "output_type": "execute_result"
    }
   ],
   "source": [
    "#lets look at another example\n",
    "data[81]"
   ]
  },
  {
   "cell_type": "markdown",
   "metadata": {},
   "source": [
    "By looking at the reviews in this example, it can seen that some reviews came from the same customer but had different ratings."
   ]
  },
  {
   "cell_type": "code",
   "execution_count": 16,
   "metadata": {},
   "outputs": [
    {
     "data": {
      "text/plain": [
       "25.79"
      ]
     },
     "execution_count": 16,
     "metadata": {},
     "output_type": "execute_result"
    }
   ],
   "source": [
    "#percent of products with 0 ratings\n",
    "round(len(ratings[ratings['avg_rating']==0])/float(len(ratings)) * 100, 2)"
   ]
  },
  {
   "cell_type": "code",
   "execution_count": 17,
   "metadata": {},
   "outputs": [
    {
     "data": {
      "text/plain": [
       "26.87"
      ]
     },
     "execution_count": 17,
     "metadata": {},
     "output_type": "execute_result"
    }
   ],
   "source": [
    "#percent of products with 5 ratings\n",
    "round(len(ratings[ratings['avg_rating']==5])/float(len(ratings)) * 100, 2)"
   ]
  },
  {
   "cell_type": "markdown",
   "metadata": {},
   "source": [
    "### Answer to A1"
   ]
  },
  {
   "cell_type": "markdown",
   "metadata": {},
   "source": [
    "By simply looking at just the total reveiws and downloaded totals it seems like there are more reviews than actual downloads in the data. It puts the ratings system's credibility into question as it is assumed that the ratings are made only by individuals who downloaded the product. This is important because a lot of those who made reviews are making a review based only on the product and not the product that came from this merchant.\n",
    "\n",
    "Also, it is possible that some customers may be making some questionable reviews like on the above example. It doesn't make sense for one customer to make multiple reviews with different ratings on one product. This might be a sign of manipulating the rating.\n",
    "\n",
    "Suggestions fot further analysis:\n",
    " - An in depth analysis of customers can be done to check if there is an anomalous behavior for customers that make a review.\n",
    " - Given more data about the actual reviews, Natural Language Processing(NLP) can be used to go beyond the ratings\n",
    " - The reviews can alo be looked at if the review was voted or helpful in determining its relevance to rating"
   ]
  },
  {
   "cell_type": "markdown",
   "metadata": {},
   "source": [
    "### 2. Category bloat"
   ]
  },
  {
   "cell_type": "markdown",
   "metadata": {},
   "source": [
    "Consider the product group named 'Books'. Each product in this group is associated with categories. Naturally, with categorization, there are tradeoffs between how broad or specific the categories must be."
   ]
  },
  {
   "cell_type": "markdown",
   "metadata": {},
   "source": [
    "For this dataset, quantify the following:\n",
    "\n",
    "    a. Is there redundancy in the categorization? How can it be identified/removed?\n",
    "    b. Is is possible to reduce the number of categories drastically (say to 10% of existing categories) by sacrificing relatively few category entries (say close to 10%)?"
   ]
  },
  {
   "cell_type": "code",
   "execution_count": 18,
   "metadata": {},
   "outputs": [
    {
     "data": {
      "text/plain": [
       "['Id:   1',\n",
       " 'ASIN: 0827229534',\n",
       " '  title: Patterns of Preaching: A Sermon Sampler',\n",
       " '  group: Book',\n",
       " '  salesrank: 396585',\n",
       " '  similar: 5  0804215715  156101074X  0687023955  0687074231  082721619X',\n",
       " '  categories: 2',\n",
       " '   |Books[283155]|Subjects[1000]|Religion & Spirituality[22]|Christianity[12290]|Clergy[12360]|Preaching[12368]',\n",
       " '   |Books[283155]|Subjects[1000]|Religion & Spirituality[22]|Christianity[12290]|Clergy[12360]|Sermons[12370]',\n",
       " '  reviews: total: 2  downloaded: 2  avg rating: 5',\n",
       " '    2000-7-28  cutomer: A2JW67OY8U6HHK  rating: 5  votes:  10  helpful:   9',\n",
       " '    2003-12-14  cutomer: A2VE83MZF98ITY  rating: 5  votes:   6  helpful:   5']"
      ]
     },
     "execution_count": 18,
     "metadata": {},
     "output_type": "execute_result"
    }
   ],
   "source": [
    "#sample data to heck categories\n",
    "data[1]"
   ]
  },
  {
   "cell_type": "markdown",
   "metadata": {},
   "source": [
    "Looking at this sample data we can already reduce category redundancy by simply removing just the last sub category. This immediately cuts the data's category number into half."
   ]
  },
  {
   "cell_type": "code",
   "execution_count": 19,
   "metadata": {},
   "outputs": [],
   "source": [
    "#extract category data into a lists \n",
    "category = []\n",
    "ids = []\n",
    "book_count = 0\n",
    "\n",
    "for d in data:\n",
    "    group, id_ = '', ''\n",
    "    for item in d:\n",
    "        if item.startswith('  group:'):\n",
    "            group = item.split()[-1]\n",
    "        if item.startswith('Id:'):\n",
    "            id_ = item.split()[-1]\n",
    "        if group == 'Book':\n",
    "            if item.startswith('   |'):\n",
    "                category.append(item.strip())\n",
    "                ids.append(id_)\n",
    "    if group == 'Book':\n",
    "        book_count += 1"
   ]
  },
  {
   "cell_type": "code",
   "execution_count": 20,
   "metadata": {},
   "outputs": [
    {
     "data": {
      "text/plain": [
       "(1440329, 1440329, 393561)"
      ]
     },
     "execution_count": 20,
     "metadata": {},
     "output_type": "execute_result"
    }
   ],
   "source": [
    "#check totals\n",
    "len(ids), len(category), book_count"
   ]
  },
  {
   "cell_type": "code",
   "execution_count": 21,
   "metadata": {},
   "outputs": [
    {
     "data": {
      "text/plain": [
       "3.66"
      ]
     },
     "execution_count": 21,
     "metadata": {},
     "output_type": "execute_result"
    }
   ],
   "source": [
    "round(len(category)/float(book_count), 2)"
   ]
  },
  {
   "cell_type": "markdown",
   "metadata": {},
   "source": [
    "This further emphasizes that we have several categories for each book."
   ]
  },
  {
   "cell_type": "code",
   "execution_count": 22,
   "metadata": {},
   "outputs": [
    {
     "data": {
      "text/html": [
       "<div>\n",
       "<style>\n",
       "    .dataframe thead tr:only-child th {\n",
       "        text-align: right;\n",
       "    }\n",
       "\n",
       "    .dataframe thead th {\n",
       "        text-align: left;\n",
       "    }\n",
       "\n",
       "    .dataframe tbody tr th {\n",
       "        vertical-align: top;\n",
       "    }\n",
       "</style>\n",
       "<table border=\"1\" class=\"dataframe\">\n",
       "  <thead>\n",
       "    <tr style=\"text-align: right;\">\n",
       "      <th></th>\n",
       "      <th>id</th>\n",
       "      <th>category</th>\n",
       "      <th>sub_cat</th>\n",
       "    </tr>\n",
       "  </thead>\n",
       "  <tbody>\n",
       "    <tr>\n",
       "      <th>0</th>\n",
       "      <td>1</td>\n",
       "      <td>|Books[283155]|Subjects[1000]|Religion &amp; Spiri...</td>\n",
       "      <td>6</td>\n",
       "    </tr>\n",
       "    <tr>\n",
       "      <th>1</th>\n",
       "      <td>1</td>\n",
       "      <td>|Books[283155]|Subjects[1000]|Religion &amp; Spiri...</td>\n",
       "      <td>6</td>\n",
       "    </tr>\n",
       "    <tr>\n",
       "      <th>2</th>\n",
       "      <td>2</td>\n",
       "      <td>|Books[283155]|Subjects[1000]|Religion &amp; Spiri...</td>\n",
       "      <td>5</td>\n",
       "    </tr>\n",
       "    <tr>\n",
       "      <th>3</th>\n",
       "      <td>2</td>\n",
       "      <td>|Books[283155]|Subjects[1000]|Religion &amp; Spiri...</td>\n",
       "      <td>5</td>\n",
       "    </tr>\n",
       "    <tr>\n",
       "      <th>4</th>\n",
       "      <td>3</td>\n",
       "      <td>|Books[283155]|Subjects[1000]|Home &amp; Garden[48...</td>\n",
       "      <td>5</td>\n",
       "    </tr>\n",
       "  </tbody>\n",
       "</table>\n",
       "</div>"
      ],
      "text/plain": [
       "  id                                           category  sub_cat\n",
       "0  1  |Books[283155]|Subjects[1000]|Religion & Spiri...        6\n",
       "1  1  |Books[283155]|Subjects[1000]|Religion & Spiri...        6\n",
       "2  2  |Books[283155]|Subjects[1000]|Religion & Spiri...        5\n",
       "3  2  |Books[283155]|Subjects[1000]|Religion & Spiri...        5\n",
       "4  3  |Books[283155]|Subjects[1000]|Home & Garden[48...        5"
      ]
     },
     "execution_count": 22,
     "metadata": {},
     "output_type": "execute_result"
    }
   ],
   "source": [
    "#create categories dataframe\n",
    "categories = pd.DataFrame({'id': ids,'category': category})\n",
    "categories = categories[['id', 'category']]\n",
    "categories['sub_cat'] = [len(branch.split('|')[1:]) for branch in categories['category']]\n",
    "categories.head()"
   ]
  },
  {
   "cell_type": "code",
   "execution_count": 23,
   "metadata": {},
   "outputs": [
    {
     "data": {
      "text/plain": [
       "(393561, 1440329, 3.66)"
      ]
     },
     "execution_count": 23,
     "metadata": {},
     "output_type": "execute_result"
    }
   ],
   "source": [
    "#totals of books and category branches, and categories per book\n",
    "book_count, len(category), round(len(category)/float(book_count), 2)"
   ]
  },
  {
   "cell_type": "markdown",
   "metadata": {},
   "source": [
    "Just by looking at the average category per book, it seems that there are already a lot of categories just for one item."
   ]
  },
  {
   "cell_type": "code",
   "execution_count": 24,
   "metadata": {},
   "outputs": [
    {
     "data": {
      "text/plain": [
       "12853"
      ]
     },
     "execution_count": 24,
     "metadata": {},
     "output_type": "execute_result"
    }
   ],
   "source": [
    "#number of unique categories\n",
    "len(set(category))"
   ]
  },
  {
   "cell_type": "code",
   "execution_count": 25,
   "metadata": {},
   "outputs": [],
   "source": [
    "#create a list of ids with more than 2 categories\n",
    "cat = categories['id'].value_counts().reset_index(name='counts')\n",
    "cat = cat[cat['counts'] > 1]\n",
    "cat_list = list(cat['index'])"
   ]
  },
  {
   "cell_type": "code",
   "execution_count": 26,
   "metadata": {},
   "outputs": [
    {
     "data": {
      "text/plain": [
       "12833"
      ]
     },
     "execution_count": 26,
     "metadata": {},
     "output_type": "execute_result"
    }
   ],
   "source": [
    "#dataframe of ids with more than 2 categories\n",
    "cats = categories[categories['id'].isin(cat_list)]\n",
    "#number of unique categories\n",
    "len(set(cats['category']))"
   ]
  },
  {
   "cell_type": "code",
   "execution_count": 27,
   "metadata": {},
   "outputs": [],
   "source": [
    "#list of categories for books with single categories, for later use\n",
    "single = list(set(category) - set(cats['category']))"
   ]
  },
  {
   "cell_type": "code",
   "execution_count": 28,
   "metadata": {},
   "outputs": [
    {
     "name": "stderr",
     "output_type": "stream",
     "text": [
      "/Users/raffy/anaconda/lib/python2.7/site-packages/ipykernel/__main__.py:2: SettingWithCopyWarning: \n",
      "A value is trying to be set on a copy of a slice from a DataFrame.\n",
      "Try using .loc[row_indexer,col_indexer] = value instead\n",
      "\n",
      "See the caveats in the documentation: http://pandas.pydata.org/pandas-docs/stable/indexing.html#indexing-view-versus-copy\n",
      "  from ipykernel import kernelapp as app\n",
      "/Users/raffy/anaconda/lib/python2.7/site-packages/ipykernel/__main__.py:3: SettingWithCopyWarning: \n",
      "A value is trying to be set on a copy of a slice from a DataFrame.\n",
      "Try using .loc[row_indexer,col_indexer] = value instead\n",
      "\n",
      "See the caveats in the documentation: http://pandas.pydata.org/pandas-docs/stable/indexing.html#indexing-view-versus-copy\n",
      "  app.launch_new_instance()\n",
      "/Users/raffy/anaconda/lib/python2.7/site-packages/ipykernel/__main__.py:4: SettingWithCopyWarning: \n",
      "A value is trying to be set on a copy of a slice from a DataFrame.\n",
      "Try using .loc[row_indexer,col_indexer] = value instead\n",
      "\n",
      "See the caveats in the documentation: http://pandas.pydata.org/pandas-docs/stable/indexing.html#indexing-view-versus-copy\n",
      "/Users/raffy/anaconda/lib/python2.7/site-packages/ipykernel/__main__.py:5: SettingWithCopyWarning: \n",
      "A value is trying to be set on a copy of a slice from a DataFrame.\n",
      "Try using .loc[row_indexer,col_indexer] = value instead\n",
      "\n",
      "See the caveats in the documentation: http://pandas.pydata.org/pandas-docs/stable/indexing.html#indexing-view-versus-copy\n"
     ]
    },
    {
     "data": {
      "text/html": [
       "<div>\n",
       "<style>\n",
       "    .dataframe thead tr:only-child th {\n",
       "        text-align: right;\n",
       "    }\n",
       "\n",
       "    .dataframe thead th {\n",
       "        text-align: left;\n",
       "    }\n",
       "\n",
       "    .dataframe tbody tr th {\n",
       "        vertical-align: top;\n",
       "    }\n",
       "</style>\n",
       "<table border=\"1\" class=\"dataframe\">\n",
       "  <thead>\n",
       "    <tr style=\"text-align: right;\">\n",
       "      <th></th>\n",
       "      <th>id</th>\n",
       "      <th>category</th>\n",
       "      <th>sub_cat</th>\n",
       "      <th>cat_1</th>\n",
       "      <th>cat_2</th>\n",
       "    </tr>\n",
       "  </thead>\n",
       "  <tbody>\n",
       "    <tr>\n",
       "      <th>0</th>\n",
       "      <td>1</td>\n",
       "      <td>|Books[283155]|Subjects[1000]|Religion &amp; Spiri...</td>\n",
       "      <td>6</td>\n",
       "      <td>Books[283155]|Subjects[1000]|Religion &amp; Spirit...</td>\n",
       "      <td>Books[283155]|Subjects[1000]|Religion &amp; Spirit...</td>\n",
       "    </tr>\n",
       "    <tr>\n",
       "      <th>1</th>\n",
       "      <td>1</td>\n",
       "      <td>|Books[283155]|Subjects[1000]|Religion &amp; Spiri...</td>\n",
       "      <td>6</td>\n",
       "      <td>Books[283155]|Subjects[1000]|Religion &amp; Spirit...</td>\n",
       "      <td>Books[283155]|Subjects[1000]|Religion &amp; Spirit...</td>\n",
       "    </tr>\n",
       "    <tr>\n",
       "      <th>2</th>\n",
       "      <td>2</td>\n",
       "      <td>|Books[283155]|Subjects[1000]|Religion &amp; Spiri...</td>\n",
       "      <td>5</td>\n",
       "      <td>Books[283155]|Subjects[1000]|Religion &amp; Spirit...</td>\n",
       "      <td>Books[283155]|Subjects[1000]|Religion &amp; Spirit...</td>\n",
       "    </tr>\n",
       "    <tr>\n",
       "      <th>3</th>\n",
       "      <td>2</td>\n",
       "      <td>|Books[283155]|Subjects[1000]|Religion &amp; Spiri...</td>\n",
       "      <td>5</td>\n",
       "      <td>Books[283155]|Subjects[1000]|Religion &amp; Spirit...</td>\n",
       "      <td>Books[283155]|Subjects[1000]|Religion &amp; Spirit...</td>\n",
       "    </tr>\n",
       "    <tr>\n",
       "      <th>5</th>\n",
       "      <td>4</td>\n",
       "      <td>|Books[283155]|Subjects[1000]|Religion &amp; Spiri...</td>\n",
       "      <td>7</td>\n",
       "      <td>Books[283155]|Subjects[1000]|Religion &amp; Spirit...</td>\n",
       "      <td>Books[283155]|Subjects[1000]|Religion &amp; Spirit...</td>\n",
       "    </tr>\n",
       "  </tbody>\n",
       "</table>\n",
       "</div>"
      ],
      "text/plain": [
       "  id                                           category  sub_cat  \\\n",
       "0  1  |Books[283155]|Subjects[1000]|Religion & Spiri...        6   \n",
       "1  1  |Books[283155]|Subjects[1000]|Religion & Spiri...        6   \n",
       "2  2  |Books[283155]|Subjects[1000]|Religion & Spiri...        5   \n",
       "3  2  |Books[283155]|Subjects[1000]|Religion & Spiri...        5   \n",
       "5  4  |Books[283155]|Subjects[1000]|Religion & Spiri...        7   \n",
       "\n",
       "                                               cat_1  \\\n",
       "0  Books[283155]|Subjects[1000]|Religion & Spirit...   \n",
       "1  Books[283155]|Subjects[1000]|Religion & Spirit...   \n",
       "2  Books[283155]|Subjects[1000]|Religion & Spirit...   \n",
       "3  Books[283155]|Subjects[1000]|Religion & Spirit...   \n",
       "5  Books[283155]|Subjects[1000]|Religion & Spirit...   \n",
       "\n",
       "                                               cat_2  \n",
       "0  Books[283155]|Subjects[1000]|Religion & Spirit...  \n",
       "1  Books[283155]|Subjects[1000]|Religion & Spirit...  \n",
       "2  Books[283155]|Subjects[1000]|Religion & Spirit...  \n",
       "3  Books[283155]|Subjects[1000]|Religion & Spirit...  \n",
       "5  Books[283155]|Subjects[1000]|Religion & Spirit...  "
      ]
     },
     "execution_count": 28,
     "metadata": {},
     "output_type": "execute_result"
    }
   ],
   "source": [
    "#create a new column with categories less than one sub category\n",
    "cats['cat_1'] = [branch.split('|')[1:][:-1] for branch in cats['category']]\n",
    "cats['cat_1'] = cats['cat_1'].str.join('|')\n",
    "cats['cat_2'] = [branch.split('|')[1:][:-2] for branch in cats['category']]\n",
    "cats['cat_2'] = cats['cat_2'].str.join('|')\n",
    "cats.head()"
   ]
  },
  {
   "cell_type": "code",
   "execution_count": 29,
   "metadata": {},
   "outputs": [
    {
     "data": {
      "text/plain": [
       "3"
      ]
     },
     "execution_count": 29,
     "metadata": {},
     "output_type": "execute_result"
    }
   ],
   "source": [
    "#minimum number of sub-categories per book\n",
    "min(categories['sub_cat'])"
   ]
  },
  {
   "cell_type": "code",
   "execution_count": 30,
   "metadata": {},
   "outputs": [
    {
     "data": {
      "text/plain": [
       "(2024, 15.75)"
      ]
     },
     "execution_count": 30,
     "metadata": {},
     "output_type": "execute_result"
    }
   ],
   "source": [
    "#remaining unique categories and percentage from total unique categories if one sub category was removed\n",
    "len(set(list(cats['cat_1']) + single)), round(len(set(list(cats['cat_1']) + single))/float(len(set(categories['category'])))*100, 2)"
   ]
  },
  {
   "cell_type": "code",
   "execution_count": 31,
   "metadata": {},
   "outputs": [
    {
     "data": {
      "text/plain": [
       "(544, 4.23)"
      ]
     },
     "execution_count": 31,
     "metadata": {},
     "output_type": "execute_result"
    }
   ],
   "source": [
    "#remaining unique categories and percentage from total unique categories if two sub categories were removed\n",
    "len(set(list(cats['cat_2']) + single)), round(len(set(list(cats['cat_2']) + single))/float(len(set(categories['category'])))*100, 2)"
   ]
  },
  {
   "cell_type": "markdown",
   "metadata": {},
   "source": [
    "If we simply remove the last sub-category of all categories, we are able to drastically reduce the amount of categories to 15.75% of the original number. Furthermore, if the last two sub-categories we can reduce the total to 4.23% of the original category number."
   ]
  },
  {
   "cell_type": "markdown",
   "metadata": {},
   "source": [
    "### Answer to A2"
   ]
  },
  {
   "cell_type": "markdown",
   "metadata": {},
   "source": [
    "There is evidence that can be seen that there is redundancy in the categorization as can be seen on the very first product id sub-categories(Preaching and Sermon). By favoring a more broad categorization and decreasing the sub-categories by 2 we can mimize the total categories to 4.23% of the original number."
   ]
  },
  {
   "cell_type": "markdown",
   "metadata": {},
   "source": [
    "## B. (Suggested duration: 30 mins)"
   ]
  },
  {
   "cell_type": "markdown",
   "metadata": {},
   "source": [
    "Give the number crunching a rest! Just think about these problems."
   ]
  },
  {
   "cell_type": "markdown",
   "metadata": {},
   "source": [
    "### 1. Algorithm thinking"
   ]
  },
  {
   "cell_type": "markdown",
   "metadata": {},
   "source": [
    "How would build the product categorization from scratch, using similar/co-purchased information?"
   ]
  },
  {
   "cell_type": "markdown",
   "metadata": {},
   "source": [
    "I will use K-Means Clustering based on the incomplete vectors of co-purchased information to determine the appropriate number of categories. These categories will then be labeled on general clusters of items that belong together."
   ]
  },
  {
   "cell_type": "markdown",
   "metadata": {},
   "source": [
    "### 2. Product thinking"
   ]
  },
  {
   "cell_type": "markdown",
   "metadata": {},
   "source": [
    "Now, put on your 'product thinking' hat.\n",
    "\n",
    "    a. Is it a good idea to show users the categorization hierarchy for items?\n",
    "    b. Is it a good idea to show users similar/co-purchased items?\n",
    "    c. Is it a good idea to show users reviews and ratings for items?\n",
    "    d. For each of the above, why? How will you establish the same?"
   ]
  },
  {
   "cell_type": "markdown",
   "metadata": {},
   "source": [
    "It's a good idea to show categorization hierarchies to users as long as it doesn't get too specific. It is a good way to get information about the users preferences thus, helping create a better recommendation for the user depending on what the user chooses."
   ]
  },
  {
   "cell_type": "markdown",
   "metadata": {},
   "source": [
    "It's a good idea to include similar/co-purchased items as it is a good way of providing recommendations to users. As long as it's not the main focus of a page, it will be very effective in letting users know things that they would otherwise not thought about."
   ]
  },
  {
   "cell_type": "markdown",
   "metadata": {},
   "source": [
    "Reviews and ratings have become really a powerful source of information for users. A lot of users nowadays use reviews and ratings in decision making. As such, it is a good idea to include it. But with the caveat that reviews must be consistently monitored for manipulation."
   ]
  },
  {
   "cell_type": "markdown",
   "metadata": {},
   "source": [
    "In building a product, it is best to think about the user experience. I would put a lot of priority in building a great recommendation system so that users need not bother too much with looking at specific categories for certain products. This would be built using similar or co-purchased items. In order to help them with decision making, the reviews and ratings system will be throuroughly checked using algorithms to determined faked reviews and ratings. This should build confidence in the users that the revies they're looking at are genuine."
   ]
  }
 ],
 "metadata": {
  "kernelspec": {
   "display_name": "Python 2",
   "language": "python",
   "name": "python2"
  },
  "language_info": {
   "codemirror_mode": {
    "name": "ipython",
    "version": 2
   },
   "file_extension": ".py",
   "mimetype": "text/x-python",
   "name": "python",
   "nbconvert_exporter": "python",
   "pygments_lexer": "ipython2",
   "version": "2.7.13"
  }
 },
 "nbformat": 4,
 "nbformat_minor": 2
}
