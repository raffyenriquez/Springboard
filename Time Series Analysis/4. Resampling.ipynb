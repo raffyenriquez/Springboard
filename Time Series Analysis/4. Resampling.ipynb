{
 "cells": [
  {
   "cell_type": "code",
   "execution_count": 1,
   "metadata": {
    "collapsed": true
   },
   "outputs": [],
   "source": [
    "import pandas as pd\n",
    "import numpy as np"
   ]
  },
  {
   "cell_type": "code",
   "execution_count": 2,
   "metadata": {
    "collapsed": true
   },
   "outputs": [],
   "source": [
    "rng = pd.date_range('1/1/2011', periods=72, freq='H')\n",
    "ts = pd.Series(np.random.randn(len(rng)), index=rng)"
   ]
  },
  {
   "cell_type": "code",
   "execution_count": 3,
   "metadata": {},
   "outputs": [
    {
     "data": {
      "text/plain": [
       "2011-01-01 00:00:00    0.366281\n",
       "2011-01-01 01:00:00    1.140965\n",
       "2011-01-01 02:00:00   -0.490499\n",
       "2011-01-01 03:00:00   -1.394605\n",
       "2011-01-01 04:00:00   -0.792934\n",
       "Freq: H, dtype: float64"
      ]
     },
     "execution_count": 3,
     "metadata": {},
     "output_type": "execute_result"
    }
   ],
   "source": [
    "ts.head()"
   ]
  },
  {
   "cell_type": "code",
   "execution_count": 4,
   "metadata": {},
   "outputs": [
    {
     "data": {
      "text/plain": [
       "(72,)"
      ]
     },
     "execution_count": 4,
     "metadata": {},
     "output_type": "execute_result"
    }
   ],
   "source": [
    "ts.shape"
   ]
  },
  {
   "cell_type": "code",
   "execution_count": 5,
   "metadata": {},
   "outputs": [
    {
     "data": {
      "text/plain": [
       "2011-01-01 00:00:00    0.366281\n",
       "2011-01-01 00:45:00    0.366281\n",
       "2011-01-01 01:30:00    1.140965\n",
       "2011-01-01 02:15:00   -0.490499\n",
       "2011-01-01 03:00:00   -1.394605\n",
       "Freq: 45T, dtype: float64"
      ]
     },
     "execution_count": 5,
     "metadata": {},
     "output_type": "execute_result"
    }
   ],
   "source": [
    "converted = ts.asfreq('45Min', method='ffill')\n",
    "converted.head()"
   ]
  },
  {
   "cell_type": "code",
   "execution_count": 6,
   "metadata": {},
   "outputs": [
    {
     "data": {
      "text/plain": [
       "(95,)"
      ]
     },
     "execution_count": 6,
     "metadata": {},
     "output_type": "execute_result"
    }
   ],
   "source": [
    "converted.shape"
   ]
  },
  {
   "cell_type": "code",
   "execution_count": 7,
   "metadata": {
    "collapsed": true
   },
   "outputs": [],
   "source": [
    "# Does asfreq change the # of rows?"
   ]
  },
  {
   "cell_type": "markdown",
   "metadata": {},
   "source": [
    "Yes"
   ]
  },
  {
   "cell_type": "code",
   "execution_count": 8,
   "metadata": {
    "collapsed": true
   },
   "outputs": [],
   "source": [
    "# What do the different methods do?\n",
    "# method : {‘backfill’, ‘bfill’, ‘pad’, ‘ffill’, None}"
   ]
  },
  {
   "cell_type": "markdown",
   "metadata": {},
   "source": [
    "- 'backfill' == 'bfill'\n",
    "- 'pad' == 'ffill'"
   ]
  },
  {
   "cell_type": "code",
   "execution_count": 9,
   "metadata": {},
   "outputs": [
    {
     "data": {
      "text/plain": [
       "2011-01-01 00:00:00    0.366281\n",
       "2011-01-01 00:45:00         NaN\n",
       "2011-01-01 01:30:00         NaN\n",
       "2011-01-01 02:15:00         NaN\n",
       "2011-01-01 03:00:00   -1.394605\n",
       "2011-01-01 03:45:00         NaN\n",
       "2011-01-01 04:30:00         NaN\n",
       "2011-01-01 05:15:00         NaN\n",
       "2011-01-01 06:00:00   -0.473285\n",
       "2011-01-01 06:45:00         NaN\n",
       "2011-01-01 07:30:00         NaN\n",
       "2011-01-01 08:15:00         NaN\n",
       "2011-01-01 09:00:00    0.054219\n",
       "2011-01-01 09:45:00         NaN\n",
       "2011-01-01 10:30:00         NaN\n",
       "2011-01-01 11:15:00         NaN\n",
       "2011-01-01 12:00:00   -1.330632\n",
       "2011-01-01 12:45:00         NaN\n",
       "2011-01-01 13:30:00         NaN\n",
       "2011-01-01 14:15:00         NaN\n",
       "2011-01-01 15:00:00   -1.051196\n",
       "2011-01-01 15:45:00         NaN\n",
       "2011-01-01 16:30:00         NaN\n",
       "2011-01-01 17:15:00         NaN\n",
       "2011-01-01 18:00:00   -1.123569\n",
       "2011-01-01 18:45:00         NaN\n",
       "2011-01-01 19:30:00         NaN\n",
       "2011-01-01 20:15:00         NaN\n",
       "2011-01-01 21:00:00    1.555141\n",
       "2011-01-01 21:45:00         NaN\n",
       "                         ...   \n",
       "2011-01-03 00:45:00         NaN\n",
       "2011-01-03 01:30:00         NaN\n",
       "2011-01-03 02:15:00         NaN\n",
       "2011-01-03 03:00:00    0.390397\n",
       "2011-01-03 03:45:00         NaN\n",
       "2011-01-03 04:30:00         NaN\n",
       "2011-01-03 05:15:00         NaN\n",
       "2011-01-03 06:00:00   -0.654094\n",
       "2011-01-03 06:45:00         NaN\n",
       "2011-01-03 07:30:00         NaN\n",
       "2011-01-03 08:15:00         NaN\n",
       "2011-01-03 09:00:00   -0.814870\n",
       "2011-01-03 09:45:00         NaN\n",
       "2011-01-03 10:30:00         NaN\n",
       "2011-01-03 11:15:00         NaN\n",
       "2011-01-03 12:00:00   -0.193627\n",
       "2011-01-03 12:45:00         NaN\n",
       "2011-01-03 13:30:00         NaN\n",
       "2011-01-03 14:15:00         NaN\n",
       "2011-01-03 15:00:00    0.340455\n",
       "2011-01-03 15:45:00         NaN\n",
       "2011-01-03 16:30:00         NaN\n",
       "2011-01-03 17:15:00         NaN\n",
       "2011-01-03 18:00:00    0.432712\n",
       "2011-01-03 18:45:00         NaN\n",
       "2011-01-03 19:30:00         NaN\n",
       "2011-01-03 20:15:00         NaN\n",
       "2011-01-03 21:00:00   -1.271399\n",
       "2011-01-03 21:45:00         NaN\n",
       "2011-01-03 22:30:00         NaN\n",
       "Freq: 45T, Length: 95, dtype: float64"
      ]
     },
     "execution_count": 9,
     "metadata": {},
     "output_type": "execute_result"
    }
   ],
   "source": [
    "ts.asfreq('45Min', method=None)"
   ]
  },
  {
   "cell_type": "code",
   "execution_count": 10,
   "metadata": {
    "collapsed": true
   },
   "outputs": [],
   "source": [
    "# Might any of these methods have pitfalls from a logical point of view?"
   ]
  },
  {
   "cell_type": "markdown",
   "metadata": {},
   "source": [
    "Using 'bfill' is like 'looking into the future' in time series analysis"
   ]
  },
  {
   "cell_type": "code",
   "execution_count": 11,
   "metadata": {
    "collapsed": true
   },
   "outputs": [],
   "source": [
    "# What's the difference between going to a higher frequency and a lower frequency?"
   ]
  },
  {
   "cell_type": "markdown",
   "metadata": {},
   "source": [
    "The frequencies would determine how far apart the timestamps are"
   ]
  },
  {
   "cell_type": "code",
   "execution_count": 12,
   "metadata": {
    "collapsed": true
   },
   "outputs": [],
   "source": [
    "converted = ts.asfreq('90Min', method = 'bfill')"
   ]
  },
  {
   "cell_type": "code",
   "execution_count": 13,
   "metadata": {
    "collapsed": true
   },
   "outputs": [],
   "source": [
    "# What's different logically about going to a higher frequency vs a lower frequency? \n",
    "# What do you want to do when switching to a lower freqeuncy that is not logical when switching to a higher frequency?"
   ]
  },
  {
   "cell_type": "code",
   "execution_count": 14,
   "metadata": {},
   "outputs": [
    {
     "data": {
      "text/plain": [
       "2011-01-01   -4.828111\n",
       "2011-01-02   -0.431384\n",
       "2011-01-03    1.887488\n",
       "Freq: D, dtype: float64"
      ]
     },
     "execution_count": 14,
     "metadata": {},
     "output_type": "execute_result"
    }
   ],
   "source": [
    "ts.resample('D').sum()"
   ]
  },
  {
   "cell_type": "code",
   "execution_count": 15,
   "metadata": {
    "collapsed": true
   },
   "outputs": [],
   "source": [
    "# What if you want to downsample and you don't want to ffill or bfill?"
   ]
  },
  {
   "cell_type": "markdown",
   "metadata": {},
   "source": [
    "Use 'None' instead of the two mentioned methods"
   ]
  },
  {
   "cell_type": "code",
   "execution_count": 16,
   "metadata": {
    "collapsed": true
   },
   "outputs": [],
   "source": [
    "# What is the difference between .resample() and .asfreq()?"
   ]
  },
  {
   "cell_type": "markdown",
   "metadata": {},
   "source": [
    "- .resample() produces an object that we can perform functions on\n",
    "- .asfreq() changes the frequency of the DatetiemIndex object that also provides padding functionality"
   ]
  },
  {
   "cell_type": "code",
   "execution_count": 17,
   "metadata": {
    "collapsed": true
   },
   "outputs": [],
   "source": [
    "# What are some special things you can do with .resample() you can't do with .asfreq()?"
   ]
  },
  {
   "cell_type": "markdown",
   "metadata": {
    "collapsed": true
   },
   "source": [
    "Some functions such as count, mean, var, etc."
   ]
  }
 ],
 "metadata": {
  "kernelspec": {
   "display_name": "Python 2",
   "language": "python",
   "name": "python2"
  },
  "language_info": {
   "codemirror_mode": {
    "name": "ipython",
    "version": 2
   },
   "file_extension": ".py",
   "mimetype": "text/x-python",
   "name": "python",
   "nbconvert_exporter": "python",
   "pygments_lexer": "ipython2",
   "version": "2.7.13"
  }
 },
 "nbformat": 4,
 "nbformat_minor": 1
}
